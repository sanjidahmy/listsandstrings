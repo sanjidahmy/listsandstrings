{
 "cells": [
  {
   "cell_type": "code",
   "execution_count": 143,
   "metadata": {},
   "outputs": [
    {
     "name": "stdout",
     "output_type": "stream",
     "text": [
      "a\n",
      "b\n",
      "r\n",
      "d\n",
      "i\n",
      "r\n",
      "t\n"
     ]
    }
   ],
   "source": [
    "myList = ['ana', 'ben', 'carli', 'dee', 'elaine', 'fred', 'gustas']\n",
    "\n",
    "for i in range(len(myList)):\n",
    "    print(myList[i][-3])"
   ]
  },
  {
   "cell_type": "code",
   "execution_count": 144,
   "metadata": {},
   "outputs": [
    {
     "name": "stdout",
     "output_type": "stream",
     "text": [
      "12\n"
     ]
    }
   ],
   "source": [
    "import random\n",
    "numberList = [0, 2, 4, 6, 8, 10, 12, 14, 16, 18, 20, 22, 24, 26, 28, 30]\n",
    "print(random.choice(numberList))\n"
   ]
  },
  {
   "cell_type": "code",
   "execution_count": 145,
   "metadata": {},
   "outputs": [
    {
     "name": "stdout",
     "output_type": "stream",
     "text": [
      "['ana', 'carli', 'elaine', 'gustas']\n"
     ]
    }
   ],
   "source": [
    "# Print values with EVEN array index values\n",
    "print(myList[::2])"
   ]
  },
  {
   "cell_type": "code",
   "execution_count": 146,
   "metadata": {},
   "outputs": [
    {
     "name": "stdout",
     "output_type": "stream",
     "text": [
      "gustas\n"
     ]
    }
   ],
   "source": [
    "# Randomly pick one \"box\" and print its value\n",
    "print(random.choice(myList))"
   ]
  },
  {
   "cell_type": "code",
   "execution_count": 147,
   "metadata": {},
   "outputs": [
    {
     "name": "stdout",
     "output_type": "stream",
     "text": [
      "gustas\n",
      "fred\n",
      "elaine\n",
      "dee\n",
      "carli\n",
      "ben\n",
      "ana\n"
     ]
    }
   ],
   "source": [
    "# Use a for loop backwards to print a list backwards\n",
    "for backwards in myList[::-1]:\n",
    "    print(backwards)"
   ]
  },
  {
   "cell_type": "code",
   "execution_count": 148,
   "metadata": {},
   "outputs": [
    {
     "name": "stdout",
     "output_type": "stream",
     "text": [
      "a\n",
      "n\n",
      "i\n",
      "e\n",
      "e\n",
      "d\n",
      "s\n"
     ]
    }
   ],
   "source": [
    "# Step through a list of word Print only the LAST letter of each word\n",
    "for i in range(len(myList)):\n",
    "    twist = (myList[i][::-1])\n",
    "    print(twist[0])\n",
    "    "
   ]
  },
  {
   "cell_type": "code",
   "execution_count": 149,
   "metadata": {},
   "outputs": [
    {
     "data": {
      "text/plain": [
       "7"
      ]
     },
     "execution_count": 149,
     "metadata": {},
     "output_type": "execute_result"
    }
   ],
   "source": [
    "# Step through a list of word Print a random letter of each word\n",
    "len(myList)"
   ]
  }
 ],
 "metadata": {
  "kernelspec": {
   "display_name": "Python 3",
   "language": "python",
   "name": "python3"
  },
  "language_info": {
   "codemirror_mode": {
    "name": "ipython",
    "version": 3
   },
   "file_extension": ".py",
   "mimetype": "text/x-python",
   "name": "python",
   "nbconvert_exporter": "python",
   "pygments_lexer": "ipython3",
   "version": "3.5.2"
  }
 },
 "nbformat": 4,
 "nbformat_minor": 2
}
