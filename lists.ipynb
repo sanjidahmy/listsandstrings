{
 "cells": [
  {
   "cell_type": "code",
   "execution_count": 6,
   "metadata": {},
   "outputs": [
    {
     "name": "stdout",
     "output_type": "stream",
     "text": [
      "a\n",
      "b\n",
      "r\n",
      "d\n",
      "i\n",
      "r\n",
      "t\n"
     ]
    }
   ],
   "source": [
    "myList = ['ana', 'ben', 'carli', 'dee', 'elaine', 'fred', 'gustas']\n",
    "\n",
    "for i in range(len(myList)):\n",
    "    print(myList[i][-3])"
   ]
  },
  {
   "cell_type": "code",
   "execution_count": 1,
   "metadata": {},
   "outputs": [
    {
     "name": "stdout",
     "output_type": "stream",
     "text": [
      "10\n"
     ]
    }
   ],
   "source": [
    "import random\n",
    "numberList = [0, 2, 4, 6, 8, 10, 12, 14, 16, 18, 20, 22, 24, 26, 28, 30]\n",
    "print(random.choice(numberList))\n"
   ]
  },
  {
   "cell_type": "code",
   "execution_count": 141,
   "metadata": {},
   "outputs": [
    {
     "name": "stdout",
     "output_type": "stream",
     "text": [
      "['ana', 'carli', 'elaine', 'gustas']\n",
      "carli\n",
      "gustas\n",
      "fred\n",
      "elaine\n",
      "dee\n",
      "carli\n",
      "ben\n",
      "ana\n",
      "a\n",
      "n\n",
      "i\n",
      "e\n",
      "e\n",
      "d\n",
      "s\n"
     ]
    },
    {
     "data": {
      "text/plain": [
       "7"
      ]
     },
     "execution_count": 141,
     "metadata": {},
     "output_type": "execute_result"
    }
   ],
   "source": [
    "# Print values with EVEN array index values\n",
    "print(myList[::2])\n",
    "\n",
    "# Randomly pick one \"box\" and print its value\n",
    "print(random.choice(myList))\n",
    "\n",
    "# Use a for loop backwards to print a list backwards\n",
    "for backwards in myList[::-1]:\n",
    "    print(backwards)\n",
    "    \n",
    "# Step through a list of word Print only the LAST letter of each word\n",
    "for i in range(len(myList)):\n",
    "    twist = (myList[i][::-1])\n",
    "    print(twist[0])\n",
    "    \n",
    "\n",
    "# Step through a list of word Print a random letter of each word\n",
    "len(myList)"
   ]
  },
  {
   "cell_type": "code",
   "execution_count": null,
   "metadata": {},
   "outputs": [],
   "source": [
    "\n"
   ]
  }
 ],
 "metadata": {
  "kernelspec": {
   "display_name": "Python 3",
   "language": "python",
   "name": "python3"
  },
  "language_info": {
   "codemirror_mode": {
    "name": "ipython",
    "version": 3
   },
   "file_extension": ".py",
   "mimetype": "text/x-python",
   "name": "python",
   "nbconvert_exporter": "python",
   "pygments_lexer": "ipython3",
   "version": "3.5.2"
  }
 },
 "nbformat": 4,
 "nbformat_minor": 2
}
